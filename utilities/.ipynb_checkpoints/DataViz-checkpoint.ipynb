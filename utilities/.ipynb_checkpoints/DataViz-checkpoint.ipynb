{
 "cells": [
  {
   "cell_type": "markdown",
   "metadata": {},
   "source": [
    "# Statistiques descriptives et Data Visualization\n",
    "\n",
    "L'objectif des statistiques descriptives réside dans plusieurs points :\n",
    "\n",
    "- Apporter de la connaissance sur les données\n",
    "- Explorer les différentes interactions entre les variables\n",
    "- Détecter les observations anormales et aberrantes\n",
    "\n",
    "La principale différence entre les statistiques descriptives et la Data Visualization est que cette dernière cherche à représenter de manière simple un phénomène complexe provenant des données."
   ]
  },
  {
   "cell_type": "markdown",
   "metadata": {},
   "source": [
    "## Hypothèses\n",
    "\n",
    "- les 2 apart de 16 lits sont supprimés"
   ]
  },
  {
   "cell_type": "code",
   "execution_count": 2,
   "metadata": {},
   "outputs": [],
   "source": [
    "import numpy as np\n",
    "import pandas as pd\n",
    "import matplotlib.pyplot as plt\n",
    "\n",
    "import seaborn as sns\n",
    "import ipyleaflet #pour faire de map\n",
    "\n",
    "from bokeh.io import output_file, show #interactive \n",
    "from bokeh.palettes import Category20c\n",
    "from bokeh.plotting import figure\n",
    "\n",
    "from ipywidgets.embed import embed_minimal_html\n",
    "\n",
    "sns.set(rc={'figure.figsize':(12,5)}) #set figure size form the start\n",
    "\n",
    "# Config VS Code :\n",
    "# npm install vscode-nls\n",
    "# Installer l'extension HTML Preview\n",
    "# Installer ipyleaflet"
   ]
  },
  {
   "cell_type": "code",
   "execution_count": 3,
   "metadata": {
    "scrolled": true
   },
   "outputs": [
    {
     "data": {
      "text/html": [
       "<div>\n",
       "<style scoped>\n",
       "    .dataframe tbody tr th:only-of-type {\n",
       "        vertical-align: middle;\n",
       "    }\n",
       "\n",
       "    .dataframe tbody tr th {\n",
       "        vertical-align: top;\n",
       "    }\n",
       "\n",
       "    .dataframe thead th {\n",
       "        text-align: right;\n",
       "    }\n",
       "</style>\n",
       "<table border=\"1\" class=\"dataframe\">\n",
       "  <thead>\n",
       "    <tr style=\"text-align: right;\">\n",
       "      <th></th>\n",
       "      <th>listing_id</th>\n",
       "      <th>amenity_ids</th>\n",
       "      <th>bathrooms</th>\n",
       "      <th>bedrooms</th>\n",
       "      <th>beds</th>\n",
       "      <th>is_business_travel_ready</th>\n",
       "      <th>is_fully_refundable</th>\n",
       "      <th>is_host_highly_rated</th>\n",
       "      <th>is_new_listing</th>\n",
       "      <th>is_rebookable</th>\n",
       "      <th>latitude</th>\n",
       "      <th>longitude</th>\n",
       "      <th>person_capacity</th>\n",
       "      <th>type</th>\n",
       "      <th>weekly_factor</th>\n",
       "      <th>monthly_factor</th>\n",
       "    </tr>\n",
       "  </thead>\n",
       "  <tbody>\n",
       "    <tr>\n",
       "      <th>0</th>\n",
       "      <td>28581061</td>\n",
       "      <td>[33, 4, 21, 8, 40]</td>\n",
       "      <td>2.0</td>\n",
       "      <td>1.0</td>\n",
       "      <td>1.0</td>\n",
       "      <td>False</td>\n",
       "      <td>True</td>\n",
       "      <td>False</td>\n",
       "      <td>True</td>\n",
       "      <td>False</td>\n",
       "      <td>48.869292</td>\n",
       "      <td>2.348335</td>\n",
       "      <td>1</td>\n",
       "      <td>private_room</td>\n",
       "      <td>1.00</td>\n",
       "      <td>1.00</td>\n",
       "    </tr>\n",
       "    <tr>\n",
       "      <th>1</th>\n",
       "      <td>661961</td>\n",
       "      <td>[2, 3, 131, 4, 8, 40, 104, 41, 43, 12, 45, 77,...</td>\n",
       "      <td>1.0</td>\n",
       "      <td>1.0</td>\n",
       "      <td>1.0</td>\n",
       "      <td>False</td>\n",
       "      <td>True</td>\n",
       "      <td>True</td>\n",
       "      <td>False</td>\n",
       "      <td>False</td>\n",
       "      <td>48.867284</td>\n",
       "      <td>2.403255</td>\n",
       "      <td>2</td>\n",
       "      <td>entire_home</td>\n",
       "      <td>0.88</td>\n",
       "      <td>0.69</td>\n",
       "    </tr>\n",
       "    <tr>\n",
       "      <th>2</th>\n",
       "      <td>1261705</td>\n",
       "      <td>[33, 34, 35, 4, 8, 40, 45, 30, 46]</td>\n",
       "      <td>1.0</td>\n",
       "      <td>1.0</td>\n",
       "      <td>1.0</td>\n",
       "      <td>False</td>\n",
       "      <td>True</td>\n",
       "      <td>True</td>\n",
       "      <td>False</td>\n",
       "      <td>False</td>\n",
       "      <td>48.867894</td>\n",
       "      <td>2.375897</td>\n",
       "      <td>1</td>\n",
       "      <td>private_room</td>\n",
       "      <td>1.00</td>\n",
       "      <td>1.00</td>\n",
       "    </tr>\n",
       "    <tr>\n",
       "      <th>3</th>\n",
       "      <td>1318834</td>\n",
       "      <td>[1, 33, 2, 3, 4, 8, 30, 31]</td>\n",
       "      <td>1.0</td>\n",
       "      <td>2.0</td>\n",
       "      <td>2.0</td>\n",
       "      <td>False</td>\n",
       "      <td>True</td>\n",
       "      <td>False</td>\n",
       "      <td>False</td>\n",
       "      <td>False</td>\n",
       "      <td>48.870370</td>\n",
       "      <td>2.358510</td>\n",
       "      <td>3</td>\n",
       "      <td>entire_home</td>\n",
       "      <td>0.82</td>\n",
       "      <td>0.48</td>\n",
       "    </tr>\n",
       "    <tr>\n",
       "      <th>4</th>\n",
       "      <td>1677091</td>\n",
       "      <td>[33, 129, 35, 4, 103, 8, 40, 10, 11, 77, 46, 4...</td>\n",
       "      <td>1.0</td>\n",
       "      <td>1.0</td>\n",
       "      <td>1.0</td>\n",
       "      <td>False</td>\n",
       "      <td>True</td>\n",
       "      <td>True</td>\n",
       "      <td>False</td>\n",
       "      <td>False</td>\n",
       "      <td>48.874149</td>\n",
       "      <td>2.373700</td>\n",
       "      <td>2</td>\n",
       "      <td>entire_home</td>\n",
       "      <td>0.95</td>\n",
       "      <td>0.90</td>\n",
       "    </tr>\n",
       "  </tbody>\n",
       "</table>\n",
       "</div>"
      ],
      "text/plain": [
       "   listing_id                                        amenity_ids  bathrooms  \\\n",
       "0    28581061                                 [33, 4, 21, 8, 40]        2.0   \n",
       "1      661961  [2, 3, 131, 4, 8, 40, 104, 41, 43, 12, 45, 77,...        1.0   \n",
       "2     1261705                 [33, 34, 35, 4, 8, 40, 45, 30, 46]        1.0   \n",
       "3     1318834                        [1, 33, 2, 3, 4, 8, 30, 31]        1.0   \n",
       "4     1677091  [33, 129, 35, 4, 103, 8, 40, 10, 11, 77, 46, 4...        1.0   \n",
       "\n",
       "   bedrooms  beds  is_business_travel_ready  is_fully_refundable  \\\n",
       "0       1.0   1.0                     False                 True   \n",
       "1       1.0   1.0                     False                 True   \n",
       "2       1.0   1.0                     False                 True   \n",
       "3       2.0   2.0                     False                 True   \n",
       "4       1.0   1.0                     False                 True   \n",
       "\n",
       "   is_host_highly_rated  is_new_listing  is_rebookable   latitude  longitude  \\\n",
       "0                 False            True          False  48.869292   2.348335   \n",
       "1                  True           False          False  48.867284   2.403255   \n",
       "2                  True           False          False  48.867894   2.375897   \n",
       "3                 False           False          False  48.870370   2.358510   \n",
       "4                  True           False          False  48.874149   2.373700   \n",
       "\n",
       "   person_capacity          type  weekly_factor  monthly_factor  \n",
       "0                1  private_room           1.00            1.00  \n",
       "1                2   entire_home           0.88            0.69  \n",
       "2                1  private_room           1.00            1.00  \n",
       "3                3   entire_home           0.82            0.48  \n",
       "4                2   entire_home           0.95            0.90  "
      ]
     },
     "execution_count": 3,
     "metadata": {},
     "output_type": "execute_result"
    }
   ],
   "source": [
    "listings = pd.read_csv(\"listings.csv\")\n",
    "listings.head()"
   ]
  },
  {
   "cell_type": "markdown",
   "metadata": {},
   "source": [
    "## Dénombrements"
   ]
  },
  {
   "cell_type": "code",
   "execution_count": 4,
   "metadata": {},
   "outputs": [
    {
     "data": {
      "text/plain": [
       "<matplotlib.axes._subplots.AxesSubplot at 0x1c248859b0>"
      ]
     },
     "execution_count": 4,
     "metadata": {},
     "output_type": "execute_result"
    },
    {
     "data": {
      "image/png": "[encoded data removed]",
      "text/plain": [
       "<Figure size 864x360 with 1 Axes>"
      ]
     },
     "metadata": {},
     "output_type": "display_data"
    }
   ],
   "source": [
    "listings['beds'].value_counts().plot.bar()"
   ]
  },
  {
   "cell_type": "code",
   "execution_count": 5,
   "metadata": {},
   "outputs": [
    {
     "data": {
      "text/html": [
       "<div>\n",
       "<style scoped>\n",
       "    .dataframe tbody tr th:only-of-type {\n",
       "        vertical-align: middle;\n",
       "    }\n",
       "\n",
       "    .dataframe tbody tr th {\n",
       "        vertical-align: top;\n",
       "    }\n",
       "\n",
       "    .dataframe thead th {\n",
       "        text-align: right;\n",
       "    }\n",
       "</style>\n",
       "<table border=\"1\" class=\"dataframe\">\n",
       "  <thead>\n",
       "    <tr style=\"text-align: right;\">\n",
       "      <th></th>\n",
       "      <th>listing_id</th>\n",
       "      <th>amenity_ids</th>\n",
       "      <th>bathrooms</th>\n",
       "      <th>bedrooms</th>\n",
       "      <th>beds</th>\n",
       "      <th>is_business_travel_ready</th>\n",
       "      <th>is_fully_refundable</th>\n",
       "      <th>is_host_highly_rated</th>\n",
       "      <th>is_new_listing</th>\n",
       "      <th>is_rebookable</th>\n",
       "      <th>latitude</th>\n",
       "      <th>longitude</th>\n",
       "      <th>person_capacity</th>\n",
       "      <th>type</th>\n",
       "      <th>weekly_factor</th>\n",
       "      <th>monthly_factor</th>\n",
       "    </tr>\n",
       "  </thead>\n",
       "  <tbody>\n",
       "    <tr>\n",
       "      <th>559</th>\n",
       "      <td>18691947</td>\n",
       "      <td>[4, 40, 11, 44, 45, 46, 49, 50, 21, 89, 90, 91...</td>\n",
       "      <td>1.0</td>\n",
       "      <td>1.0</td>\n",
       "      <td>16.0</td>\n",
       "      <td>False</td>\n",
       "      <td>True</td>\n",
       "      <td>True</td>\n",
       "      <td>False</td>\n",
       "      <td>False</td>\n",
       "      <td>48.866076</td>\n",
       "      <td>2.382308</td>\n",
       "      <td>1</td>\n",
       "      <td>shared_room</td>\n",
       "      <td>0.9</td>\n",
       "      <td>1.0</td>\n",
       "    </tr>\n",
       "    <tr>\n",
       "      <th>564</th>\n",
       "      <td>18691419</td>\n",
       "      <td>[49, 50, 4, 21, 40, 89, 90, 91, 44, 45, 46]</td>\n",
       "      <td>1.0</td>\n",
       "      <td>1.0</td>\n",
       "      <td>16.0</td>\n",
       "      <td>False</td>\n",
       "      <td>True</td>\n",
       "      <td>True</td>\n",
       "      <td>False</td>\n",
       "      <td>False</td>\n",
       "      <td>48.867191</td>\n",
       "      <td>2.381685</td>\n",
       "      <td>1</td>\n",
       "      <td>shared_room</td>\n",
       "      <td>0.9</td>\n",
       "      <td>1.0</td>\n",
       "    </tr>\n",
       "  </tbody>\n",
       "</table>\n",
       "</div>"
      ],
      "text/plain": [
       "     listing_id                                        amenity_ids  bathrooms  \\\n",
       "559    18691947  [4, 40, 11, 44, 45, 46, 49, 50, 21, 89, 90, 91...        1.0   \n",
       "564    18691419        [49, 50, 4, 21, 40, 89, 90, 91, 44, 45, 46]        1.0   \n",
       "\n",
       "     bedrooms  beds  is_business_travel_ready  is_fully_refundable  \\\n",
       "559       1.0  16.0                     False                 True   \n",
       "564       1.0  16.0                     False                 True   \n",
       "\n",
       "     is_host_highly_rated  is_new_listing  is_rebookable   latitude  \\\n",
       "559                  True           False          False  48.866076   \n",
       "564                  True           False          False  48.867191   \n",
       "\n",
       "     longitude  person_capacity         type  weekly_factor  monthly_factor  \n",
       "559   2.382308                1  shared_room            0.9             1.0  \n",
       "564   2.381685                1  shared_room            0.9             1.0  "
      ]
     },
     "execution_count": 5,
     "metadata": {},
     "output_type": "execute_result"
    }
   ],
   "source": [
    "listings.loc[listings['beds']==16]"
   ]
  },
  {
   "cell_type": "code",
   "execution_count": 6,
   "metadata": {},
   "outputs": [
    {
     "data": {
      "text/plain": [
       "<matplotlib.axes._subplots.AxesSubplot at 0x1c249bbcf8>"
      ]
     },
     "execution_count": 6,
     "metadata": {},
     "output_type": "execute_result"
    },
    {
     "data": {
      "image/png": "[encoded data removed]",
      "text/plain": [
       "<Figure size 864x360 with 1 Axes>"
      ]
     },
     "metadata": {},
     "output_type": "display_data"
    }
   ],
   "source": [
    "listings['bedrooms'].value_counts().plot.bar()"
   ]
  },
  {
   "cell_type": "code",
   "execution_count": 7,
   "metadata": {},
   "outputs": [
    {
     "data": {
      "text/plain": [
       "entire_home     157\n",
       "private_room      4\n",
       "Name: type, dtype: int64"
      ]
     },
     "execution_count": 7,
     "metadata": {},
     "output_type": "execute_result"
    }
   ],
   "source": [
    "listings.loc[listings['bedrooms']==0]['type'].value_counts()"
   ]
  },
  {
   "cell_type": "code",
   "execution_count": 8,
   "metadata": {},
   "outputs": [
    {
     "data": {
      "text/html": [
       "<div>\n",
       "<style scoped>\n",
       "    .dataframe tbody tr th:only-of-type {\n",
       "        vertical-align: middle;\n",
       "    }\n",
       "\n",
       "    .dataframe tbody tr th {\n",
       "        vertical-align: top;\n",
       "    }\n",
       "\n",
       "    .dataframe thead th {\n",
       "        text-align: right;\n",
       "    }\n",
       "</style>\n",
       "<table border=\"1\" class=\"dataframe\">\n",
       "  <thead>\n",
       "    <tr style=\"text-align: right;\">\n",
       "      <th></th>\n",
       "      <th>listing_id</th>\n",
       "      <th>amenity_ids</th>\n",
       "      <th>bathrooms</th>\n",
       "      <th>bedrooms</th>\n",
       "      <th>beds</th>\n",
       "      <th>is_business_travel_ready</th>\n",
       "      <th>is_fully_refundable</th>\n",
       "      <th>is_host_highly_rated</th>\n",
       "      <th>is_new_listing</th>\n",
       "      <th>is_rebookable</th>\n",
       "      <th>latitude</th>\n",
       "      <th>longitude</th>\n",
       "      <th>person_capacity</th>\n",
       "      <th>type</th>\n",
       "      <th>weekly_factor</th>\n",
       "      <th>monthly_factor</th>\n",
       "    </tr>\n",
       "  </thead>\n",
       "  <tbody>\n",
       "    <tr>\n",
       "      <th>212</th>\n",
       "      <td>3562428</td>\n",
       "      <td>[32, 1, 3, 35, 4, 37, 39, 8, 10, 51, 55, 30, 31]</td>\n",
       "      <td>0.0</td>\n",
       "      <td>0.0</td>\n",
       "      <td>1.0</td>\n",
       "      <td>False</td>\n",
       "      <td>True</td>\n",
       "      <td>False</td>\n",
       "      <td>False</td>\n",
       "      <td>False</td>\n",
       "      <td>48.864651</td>\n",
       "      <td>2.363825</td>\n",
       "      <td>1</td>\n",
       "      <td>private_room</td>\n",
       "      <td>0.80</td>\n",
       "      <td>0.60</td>\n",
       "    </tr>\n",
       "    <tr>\n",
       "      <th>276</th>\n",
       "      <td>6521400</td>\n",
       "      <td>[1, 33, 3, 35, 4, 8, 40, 41, 44, 45, 46, 47, 3...</td>\n",
       "      <td>1.0</td>\n",
       "      <td>0.0</td>\n",
       "      <td>2.0</td>\n",
       "      <td>False</td>\n",
       "      <td>True</td>\n",
       "      <td>False</td>\n",
       "      <td>False</td>\n",
       "      <td>False</td>\n",
       "      <td>48.868658</td>\n",
       "      <td>2.352798</td>\n",
       "      <td>3</td>\n",
       "      <td>private_room</td>\n",
       "      <td>0.99</td>\n",
       "      <td>0.98</td>\n",
       "    </tr>\n",
       "    <tr>\n",
       "      <th>696</th>\n",
       "      <td>21905043</td>\n",
       "      <td>[16, 32, 35, 4, 5, 38, 39, 8, 30, 47]</td>\n",
       "      <td>1.0</td>\n",
       "      <td>0.0</td>\n",
       "      <td>1.0</td>\n",
       "      <td>False</td>\n",
       "      <td>True</td>\n",
       "      <td>False</td>\n",
       "      <td>False</td>\n",
       "      <td>False</td>\n",
       "      <td>48.860665</td>\n",
       "      <td>2.366999</td>\n",
       "      <td>10</td>\n",
       "      <td>private_room</td>\n",
       "      <td>1.00</td>\n",
       "      <td>1.00</td>\n",
       "    </tr>\n",
       "    <tr>\n",
       "      <th>826</th>\n",
       "      <td>25145168</td>\n",
       "      <td>[1, 2, 4, 8, 77, 85, 86, 89, 90, 27, 91, 92, 9...</td>\n",
       "      <td>1.0</td>\n",
       "      <td>0.0</td>\n",
       "      <td>2.0</td>\n",
       "      <td>False</td>\n",
       "      <td>True</td>\n",
       "      <td>False</td>\n",
       "      <td>False</td>\n",
       "      <td>False</td>\n",
       "      <td>48.862173</td>\n",
       "      <td>2.358193</td>\n",
       "      <td>4</td>\n",
       "      <td>private_room</td>\n",
       "      <td>1.00</td>\n",
       "      <td>1.00</td>\n",
       "    </tr>\n",
       "  </tbody>\n",
       "</table>\n",
       "</div>"
      ],
      "text/plain": [
       "     listing_id                                        amenity_ids  bathrooms  \\\n",
       "212     3562428   [32, 1, 3, 35, 4, 37, 39, 8, 10, 51, 55, 30, 31]        0.0   \n",
       "276     6521400  [1, 33, 3, 35, 4, 8, 40, 41, 44, 45, 46, 47, 3...        1.0   \n",
       "696    21905043              [16, 32, 35, 4, 5, 38, 39, 8, 30, 47]        1.0   \n",
       "826    25145168  [1, 2, 4, 8, 77, 85, 86, 89, 90, 27, 91, 92, 9...        1.0   \n",
       "\n",
       "     bedrooms  beds  is_business_travel_ready  is_fully_refundable  \\\n",
       "212       0.0   1.0                     False                 True   \n",
       "276       0.0   2.0                     False                 True   \n",
       "696       0.0   1.0                     False                 True   \n",
       "826       0.0   2.0                     False                 True   \n",
       "\n",
       "     is_host_highly_rated  is_new_listing  is_rebookable   latitude  \\\n",
       "212                 False           False          False  48.864651   \n",
       "276                 False           False          False  48.868658   \n",
       "696                 False           False          False  48.860665   \n",
       "826                 False           False          False  48.862173   \n",
       "\n",
       "     longitude  person_capacity          type  weekly_factor  monthly_factor  \n",
       "212   2.363825                1  private_room           0.80            0.60  \n",
       "276   2.352798                3  private_room           0.99            0.98  \n",
       "696   2.366999               10  private_room           1.00            1.00  \n",
       "826   2.358193                4  private_room           1.00            1.00  "
      ]
     },
     "execution_count": 8,
     "metadata": {},
     "output_type": "execute_result"
    }
   ],
   "source": [
    "listings.loc[(listings['bedrooms']==0)&(listings['type']=='private_room')]"
   ]
  },
  {
   "cell_type": "code",
   "execution_count": 9,
   "metadata": {},
   "outputs": [
    {
     "data": {
      "text/plain": [
       "<matplotlib.axes._subplots.AxesSubplot at 0x1c24a38da0>"
      ]
     },
     "execution_count": 9,
     "metadata": {},
     "output_type": "execute_result"
    },
    {
     "data": {
      "image/png": "[encoded data removed]",
      "text/plain": [
       "<Figure size 864x360 with 1 Axes>"
      ]
     },
     "metadata": {},
     "output_type": "display_data"
    }
   ],
   "source": [
    "listings['bathrooms'].value_counts().plot.bar()"
   ]
  },
  {
   "cell_type": "markdown",
   "metadata": {},
   "source": [
    "## Interactions"
   ]
  },
  {
   "cell_type": "code",
   "execution_count": 10,
   "metadata": {},
   "outputs": [
    {
     "data": {
      "text/plain": [
       "<seaborn.axisgrid.JointGrid at 0x1c24a4ecc0>"
      ]
     },
     "execution_count": 10,
     "metadata": {},
     "output_type": "execute_result"
    },
    {
     "data": {
      "image/png": "[encoded data removed]",
      "text/plain": [
       "<Figure size 432x432 with 3 Axes>"
      ]
     },
     "metadata": {},
     "output_type": "display_data"
    }
   ],
   "source": [
    "sns.jointplot(x='beds', y='bedrooms', data=listings)"
   ]
  },
  {
   "cell_type": "code",
   "execution_count": 11,
   "metadata": {
    "scrolled": true
   },
   "outputs": [
    {
     "data": {
      "text/plain": [
       "<matplotlib.axes._subplots.AxesSubplot at 0x1c25049b70>"
      ]
     },
     "execution_count": 11,
     "metadata": {},
     "output_type": "execute_result"
    },
    {
     "data": {
      "image/png": "[encoded data removed]",
      "text/plain": [
       "<Figure size 864x360 with 1 Axes>"
      ]
     },
     "metadata": {},
     "output_type": "display_data"
    }
   ],
   "source": [
    "sns.violinplot(x='bedrooms', y='beds', data=listings)"
   ]
  },
  {
   "cell_type": "code",
   "execution_count": 14,
   "metadata": {},
   "outputs": [
    {
     "data": {
      "text/plain": [
       "<seaborn.axisgrid.PairGrid at 0x1c26318278>"
      ]
     },
     "execution_count": 14,
     "metadata": {},
     "output_type": "execute_result"
    },
    {
     "data": {
      "image/png": "[encoded data removed]",
      "text/plain": [
       "<Figure size 720x720 with 20 Axes>"
      ]
     },
     "metadata": {},
     "output_type": "display_data"
    }
   ],
   "source": [
    "sns.pairplot(listings[[\"person_capacity\", \"beds\", \"bedrooms\", \"bathrooms\"]])"
   ]
  },
  {
   "cell_type": "markdown",
   "metadata": {},
   "source": [
    "## Carte"
   ]
  },
  {
   "cell_type": "code",
   "execution_count": 13,
   "metadata": {},
   "outputs": [
    {
     "data": {
      "application/vnd.jupyter.widget-view+json": {
       "model_id": "9be4e8a5903b462593927d3463318749",
       "version_major": 2,
       "version_minor": 0
      },
      "text/plain": [
       "Map(center=[48.86, 2.35], controls=(ZoomControl(options=['position', 'zoom_in_text', 'zoom_in_title', 'zoom_ou…"
      ]
     },
     "metadata": {},
     "output_type": "display_data"
    }
   ],
   "source": [
    "from ipyleaflet import Map, Heatmap, basemaps, basemap_to_tiles, Circle\n",
    "\n",
    "# Choisissez votre couche graphique : https://leaflet-extras.github.io/leaflet-providers/preview/\n",
    "m = Map(center=(48.86, 2.35), zoom=12, layers=(basemap_to_tiles(basemaps.CartoDB.Positron, \"2017-04-08\"),))\n",
    "\n",
    "coords = listings[['person_capacity','latitude', 'longitude']]\n",
    "\n",
    "# Coder la fonction add_circle qui ajoute un point sur la carte pour chaque appartement\n",
    "def add_circle(row):\n",
    "    circle=Circle()\n",
    "    circle.location=(row['latitude'],row['longitude'])\n",
    "    circle.radius=1\n",
    "    if row['person_capacity']==1:\n",
    "        circle.color='black'\n",
    "        m.add_layer(circle)\n",
    "    else:\n",
    "        if (row['person_capacity']==2) or (row['person_capacity']==3):\n",
    "            circle.color='blue'\n",
    "            m.add_layer(circle)\n",
    "        else:\n",
    "            if (row['person_capacity']==4) or (row['person_capacity']==5) or (row['person_capacity']==6):\n",
    "                circle.color='orange'\n",
    "                m.add_layer(circle)\n",
    "            else:\n",
    "                circle.color='red'\n",
    "                m.add_layer(circle)\n",
    "\n",
    "\n",
    "\n",
    "# TODO : Appliquer la fonction sur tout le jeu de données\n",
    "coords.apply(add_circle,axis=1)\n",
    "\n",
    "\n",
    "embed_minimal_html('map.html', views=[m], title='Carte des appartements')\n",
    "m"
   ]
  },
  {
   "cell_type": "code",
   "execution_count": null,
   "metadata": {},
   "outputs": [],
   "source": []
  }
 ],
 "metadata": {
  "kernelspec": {
   "display_name": "Python 3",
   "language": "python",
   "name": "python3"
  },
  "language_info": {
   "codemirror_mode": {
    "name": "ipython",
    "version": 3
   },
   "file_extension": ".py",
   "mimetype": "text/x-python",
   "name": "python",
   "nbconvert_exporter": "python",
   "pygments_lexer": "ipython3",
   "version": "3.7.3"
  }
 },
 "nbformat": 4,
 "nbformat_minor": 4
}
